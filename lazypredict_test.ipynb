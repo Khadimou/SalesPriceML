{
 "cells": [
  {
   "cell_type": "code",
   "execution_count": 3,
   "metadata": {},
   "outputs": [
    {
     "name": "stderr",
     "output_type": "stream",
     "text": [
      " 24%|██▍       | 10/42 [00:00<00:01, 20.39it/s]"
     ]
    },
    {
     "name": "stdout",
     "output_type": "stream",
     "text": [
      "GammaRegressor model failed to execute\n",
      "Some value(s) of y are out of the valid range of the loss 'HalfGammaLoss'.\n"
     ]
    },
    {
     "name": "stderr",
     "output_type": "stream",
     "text": [
      "100%|██████████| 42/42 [00:02<00:00, 14.91it/s]"
     ]
    },
    {
     "name": "stdout",
     "output_type": "stream",
     "text": [
      "                               Adjusted R-Squared  R-Squared  RMSE  Time Taken\n",
      "Model                                                                         \n",
      "DecisionTreeRegressor                        1.00       1.00  0.00        0.02\n",
      "ExtraTreeRegressor                           1.00       1.00  0.00        0.02\n",
      "XGBRegressor                                 1.00       1.00  0.01        0.08\n",
      "ExtraTreesRegressor                          1.00       1.00  0.04        0.17\n",
      "GradientBoostingRegressor                    1.00       1.00  0.04        0.10\n",
      "KNeighborsRegressor                          0.99       0.99  0.07        0.02\n",
      "RandomForestRegressor                        0.97       0.98  0.11        0.25\n",
      "NuSVR                                        0.96       0.97  0.13        0.05\n",
      "SVR                                          0.95       0.97  0.14        0.02\n",
      "BaggingRegressor                             0.95       0.96  0.15        0.06\n",
      "HistGradientBoostingRegressor                0.93       0.95  0.17        0.24\n",
      "OrthogonalMatchingPursuit                    0.93       0.95  0.17        0.04\n",
      "MLPRegressor                                 0.92       0.94  0.19        0.42\n",
      "LassoLarsIC                                  0.91       0.94  0.19        0.02\n",
      "Lars                                         0.91       0.94  0.19        0.02\n",
      "OrthogonalMatchingPursuitCV                  0.91       0.94  0.19        0.04\n",
      "TransformedTargetRegressor                   0.91       0.94  0.19        0.01\n",
      "LinearRegression                             0.91       0.94  0.19        0.02\n",
      "BayesianRidge                                0.91       0.94  0.20        0.04\n",
      "HuberRegressor                               0.91       0.94  0.20        0.03\n",
      "GaussianProcessRegressor                     0.91       0.94  0.20        0.05\n",
      "Ridge                                        0.91       0.94  0.20        0.02\n",
      "RidgeCV                                      0.91       0.94  0.20        0.01\n",
      "LinearSVR                                    0.90       0.93  0.20        0.02\n",
      "LarsCV                                       0.90       0.93  0.20        0.03\n",
      "LassoLarsCV                                  0.90       0.93  0.20        0.03\n",
      "LassoCV                                      0.90       0.93  0.20        0.08\n",
      "RANSACRegressor                              0.90       0.93  0.21        0.05\n",
      "ElasticNetCV                                 0.90       0.93  0.21        0.10\n",
      "LGBMRegressor                                0.90       0.93  0.21        0.07\n",
      "SGDRegressor                                 0.86       0.90  0.25        0.02\n",
      "AdaBoostRegressor                            0.74       0.82  0.33        0.04\n",
      "TweedieRegressor                             0.73       0.81  0.34        0.02\n",
      "PoissonRegressor                             0.67       0.76  0.38        0.03\n",
      "PassiveAggressiveRegressor                   0.36       0.54  0.52        0.03\n",
      "ElasticNet                                   0.21       0.44  0.58        0.02\n",
      "QuantileRegressor                           -0.41      -0.01  0.77        0.47\n",
      "DummyRegressor                              -0.41      -0.01  0.78        0.01\n",
      "LassoLars                                   -0.41      -0.01  0.78        0.02\n",
      "Lasso                                       -0.41      -0.01  0.78        0.02\n",
      "KernelRidge                                 -1.53      -0.81  1.04        0.02\n"
     ]
    },
    {
     "name": "stderr",
     "output_type": "stream",
     "text": [
      "\n"
     ]
    }
   ],
   "source": [
    "from lazypredict.Supervised import LazyRegressor\n",
    "from sklearn import datasets\n",
    "from sklearn.utils import shuffle\n",
    "import numpy as np\n",
    "\n",
    "boston = datasets.load_iris()\n",
    "X, y = shuffle(boston.data, boston.target, random_state=13)\n",
    "X = X.astype(np.float32)\n",
    "\n",
    "offset = int(X.shape[0] * 0.9)\n",
    "\n",
    "X_train, y_train = X[:offset], y[:offset]\n",
    "X_test, y_test = X[offset:], y[offset:]\n",
    "\n",
    "reg = LazyRegressor(verbose=0, ignore_warnings=False, custom_metric=None)\n",
    "models, predictions = reg.fit(X_train, X_test, y_train, y_test)\n",
    "\n",
    "print(models)"
   ]
  },
  {
   "cell_type": "code",
   "execution_count": 5,
   "metadata": {},
   "outputs": [
    {
     "data": {
      "text/plain": [
       "((135, 4), (135,))"
      ]
     },
     "execution_count": 5,
     "metadata": {},
     "output_type": "execute_result"
    }
   ],
   "source": [
    "X_train.shape, y_train.shape"
   ]
  }
 ],
 "metadata": {
  "kernelspec": {
   "display_name": "Python 3",
   "language": "python",
   "name": "python3"
  },
  "language_info": {
   "codemirror_mode": {
    "name": "ipython",
    "version": 3
   },
   "file_extension": ".py",
   "mimetype": "text/x-python",
   "name": "python",
   "nbconvert_exporter": "python",
   "pygments_lexer": "ipython3",
   "version": "3.8.10"
  },
  "orig_nbformat": 4
 },
 "nbformat": 4,
 "nbformat_minor": 2
}
