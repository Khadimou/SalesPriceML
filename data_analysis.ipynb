{
 "cells": [
  {
   "cell_type": "code",
   "execution_count": 9,
   "metadata": {},
   "outputs": [],
   "source": [
    "import pandas as pd\n",
    "from ydata_profiling import ProfileReport"
   ]
  },
  {
   "cell_type": "code",
   "execution_count": 10,
   "metadata": {},
   "outputs": [],
   "source": [
    "house_dataset = pd.read_csv('../housing_dataset.csv')\n",
    "house_dataset_df = pd.DataFrame(house_dataset)\n"
   ]
  },
  {
   "cell_type": "markdown",
   "metadata": {},
   "source": [
    "#house_dataset.info()\n",
    "profile = ProfileReport(house_dataset_df, title=\"Pandas Profiling Report\", explorative=True)\n",
    "profile\n",
    "profile.to_file(\"housing_analysis.html\")"
   ]
  },
  {
   "cell_type": "code",
   "execution_count": 11,
   "metadata": {},
   "outputs": [],
   "source": [
    "from matplotlib import pyplot as plt"
   ]
  },
  {
   "cell_type": "code",
   "execution_count": 12,
   "metadata": {},
   "outputs": [],
   "source": [
    "from sklearn.linear_model import LinearRegression\n",
    "import numpy as np"
   ]
  },
  {
   "cell_type": "code",
   "execution_count": 13,
   "metadata": {},
   "outputs": [],
   "source": [
    "from sklearn.model_selection import train_test_split"
   ]
  },
  {
   "cell_type": "markdown",
   "metadata": {},
   "source": [
    "# VARIABLES CATEGORIELLES"
   ]
  },
  {
   "cell_type": "code",
   "execution_count": 14,
   "metadata": {},
   "outputs": [],
   "source": [
    "cat=(house_dataset_df.select_dtypes('object'))\n",
    "house_categ = cat.dropna(axis='columns')\n",
    "#house_categ.count() #number of values in our dataset after droping nan values"
   ]
  },
  {
   "cell_type": "code",
   "execution_count": 15,
   "metadata": {},
   "outputs": [],
   "source": [
    "from sklearn.preprocessing import LabelEncoder, OneHotEncoder\n",
    "from sklearn.feature_selection import VarianceThreshold\n",
    "\n",
    "le = LabelEncoder()"
   ]
  },
  {
   "cell_type": "code",
   "execution_count": 16,
   "metadata": {},
   "outputs": [
    {
     "name": "stderr",
     "output_type": "stream",
     "text": [
      "C:\\Users\\Rasso\\AppData\\Local\\Temp\\ipykernel_2664\\2067213728.py:1: SettingWithCopyWarning: \n",
      "A value is trying to be set on a copy of a slice from a DataFrame.\n",
      "Try using .loc[row_indexer,col_indexer] = value instead\n",
      "\n",
      "See the caveats in the documentation: https://pandas.pydata.org/pandas-docs/stable/user_guide/indexing.html#returning-a-view-versus-a-copy\n",
      "  house_categ[['MSZoning', 'Street', 'LotShape', 'LandContour', 'Utilities',\n"
     ]
    },
    {
     "data": {
      "text/plain": [
       "array([False, False, False, False, False,  True, False,  True, False,\n",
       "       False, False,  True, False, False,  True,  True, False, False,\n",
       "       False, False,  True, False, False, False, False,  True, False])"
      ]
     },
     "execution_count": 16,
     "metadata": {},
     "output_type": "execute_result"
    }
   ],
   "source": [
    "house_categ[['MSZoning', 'Street', 'LotShape', 'LandContour', 'Utilities',\n",
    "       'LotConfig', 'LandSlope', 'Neighborhood', 'Condition1', 'Condition2',\n",
    "       'BldgType', 'HouseStyle', 'RoofStyle', 'RoofMatl', 'Exterior1st',\n",
    "       'Exterior2nd', 'ExterQual', 'ExterCond', 'Foundation', 'Heating',\n",
    "       'HeatingQC', 'CentralAir', 'KitchenQual', 'Functional', 'PavedDrive',\n",
    "       'SaleType', 'SaleCondition']] = house_categ[['MSZoning', 'Street', 'LotShape', 'LandContour', 'Utilities',\n",
    "       'LotConfig', 'LandSlope', 'Neighborhood', 'Condition1', 'Condition2',\n",
    "       'BldgType', 'HouseStyle', 'RoofStyle', 'RoofMatl', 'Exterior1st',\n",
    "       'Exterior2nd', 'ExterQual', 'ExterCond', 'Foundation', 'Heating',\n",
    "       'HeatingQC', 'CentralAir', 'KitchenQual', 'Functional', 'PavedDrive',\n",
    "       'SaleType', 'SaleCondition']].apply(le.fit_transform)\n",
    "\n",
    "house_categ.var(axis=0)\n",
    "selector = VarianceThreshold(threshold=2)\n",
    "selector.fit_transform(house_categ[['MSZoning', 'Street', 'LotShape', 'LandContour', 'Utilities',\n",
    "       'LotConfig', 'LandSlope', 'Neighborhood', 'Condition1', 'Condition2',\n",
    "       'BldgType', 'HouseStyle', 'RoofStyle', 'RoofMatl', 'Exterior1st',\n",
    "       'Exterior2nd', 'ExterQual', 'ExterCond', 'Foundation', 'Heating',\n",
    "       'HeatingQC', 'CentralAir', 'KitchenQual', 'Functional', 'PavedDrive',\n",
    "       'SaleType', 'SaleCondition']])\n",
    "selector.get_support()"
   ]
  },
  {
   "cell_type": "markdown",
   "metadata": {},
   "source": [
    "# get the feature names\n",
    "feature_names = house_categ.columns\n",
    "feature_names"
   ]
  },
  {
   "cell_type": "code",
   "execution_count": 17,
   "metadata": {},
   "outputs": [],
   "source": [
    "from sklearn.feature_selection import chi2, SelectKBest "
   ]
  },
  {
   "cell_type": "code",
   "execution_count": 18,
   "metadata": {},
   "outputs": [
    {
     "data": {
      "text/plain": [
       "(array([6.78732886e+00, 2.63199587e-02, 6.75815178e+01, 1.01843296e+01,\n",
       "        6.05314010e+00, 1.82947218e+01, 5.31701186e+01, 8.25411687e+01,\n",
       "        1.37210129e+01, 2.85796069e-01, 3.12719795e+02, 1.42471245e+02,\n",
       "        2.14360930e+01, 1.93145010e+01, 1.17668376e+03, 1.76885692e+03,\n",
       "        5.37043672e+01, 5.17558848e+00, 1.25938502e+02, 9.20543280e+00,\n",
       "        6.96097144e+02, 1.13411213e+01, 6.15127063e+01, 6.12203031e+00,\n",
       "        1.47252362e+01, 2.65876552e+00, 1.91136164e+01]),\n",
       " array([9.63284632e-001, 1.00000000e+000, 1.20010681e-008, 8.07987612e-001,\n",
       "        9.78841230e-001, 2.47488302e-001, 3.61275511e-006, 2.38884038e-011,\n",
       "        5.46784734e-001, 1.00000000e+000, 1.26403023e-057, 7.48279458e-023,\n",
       "        1.23465041e-001, 1.99834346e-001, 1.66588176e-241, 0.00000000e+000,\n",
       "        2.94310272e-006, 9.90532453e-001, 1.32272414e-019, 8.66533239e-001,\n",
       "        1.26216294e-138, 7.28059355e-001, 1.38322148e-007, 9.77624195e-001,\n",
       "        4.71384078e-001, 9.99811531e-001, 2.08631446e-001]))"
      ]
     },
     "execution_count": 18,
     "metadata": {},
     "output_type": "execute_result"
    }
   ],
   "source": [
    "mean_sp = house_dataset_df['SalePrice'].mean()\n",
    "#house_dataset_df.loc[1460,'SalePrice'] = mean_sp\n",
    "y = house_categ[['LotConfig',  'Neighborhood', 'HouseStyle', 'Exterior1st','Exterior2nd','HeatingQC','SaleType']]\n",
    "\n",
    "# get the target variable\n",
    "X = house_categ[['MSZoning', 'Street', 'LotShape', 'LandContour', 'Utilities',\n",
    "       'LotConfig', 'LandSlope', 'Neighborhood', 'Condition1', 'Condition2',\n",
    "       'BldgType', 'HouseStyle', 'RoofStyle', 'RoofMatl', 'Exterior1st',\n",
    "       'Exterior2nd', 'ExterQual', 'ExterCond', 'Foundation', 'Heating',\n",
    "       'HeatingQC', 'CentralAir', 'KitchenQual', 'Functional', 'PavedDrive',\n",
    "       'SaleType', 'SaleCondition']]\n",
    "\n",
    "# compute chi-squared stats\n",
    "chi2_stats, p_values = chi2(X,house_categ['Exterior2nd'])\n",
    "chi2_stats, p_values"
   ]
  },
  {
   "cell_type": "code",
   "execution_count": 19,
   "metadata": {},
   "outputs": [
    {
     "data": {
      "text/plain": [
       "array([False, False, False, False, False, False, False, False, False,\n",
       "       False,  True, False, False, False,  True,  True, False, False,\n",
       "       False, False,  True, False, False, False, False, False, False])"
      ]
     },
     "execution_count": 19,
     "metadata": {},
     "output_type": "execute_result"
    }
   ],
   "source": [
    "best_feat = SelectKBest(chi2, k=4)\n",
    "best_feat.fit_transform(X,house_categ['Exterior2nd'])\n",
    "best_feat.get_support()\n",
    "# Hypothese 0: indépendance des variables = False\n",
    "# Hypothese rejetee = True"
   ]
  },
  {
   "cell_type": "markdown",
   "metadata": {},
   "source": [
    "# VARIABLES NUMERIQUES"
   ]
  },
  {
   "cell_type": "code",
   "execution_count": 31,
   "metadata": {},
   "outputs": [],
   "source": [
    "trainX = house_dataset_df[['OverallQual',\n",
    "    'GrLivArea',\n",
    "    'GarageCars',\n",
    "    'GarageArea',\n",
    "    'TotalBsmtSF',\n",
    "    '1stFlrSF',\n",
    "    'FullBath',\n",
    "    'TotRmsAbvGrd',\n",
    "    'YearBuilt',\n",
    "    'YearRemodAdd',\n",
    "    'MasVnrArea',\n",
    "    'Fireplaces',\n",
    "    'BsmtFinSF1',\n",
    "    'LotFrontage',\n",
    "    'WoodDeckSF',\n",
    "    'OpenPorchSF',\n",
    "    '2ndFlrSF',\n",
    "    'HalfBath','LotArea']].fillna(0).values"
   ]
  },
  {
   "cell_type": "code",
   "execution_count": 32,
   "metadata": {},
   "outputs": [],
   "source": [
    "\n",
    "xtrain, xtest, ytrain, ytest = train_test_split(trainX, house_dataset_df['SalePrice'], train_size=0.8)"
   ]
  },
  {
   "cell_type": "code",
   "execution_count": 33,
   "metadata": {},
   "outputs": [
    {
     "data": {
      "text/plain": [
       "array([ 1.97002176e+04,  3.85400160e+01,  1.32758305e+04, -1.19623618e+00,\n",
       "        6.43466281e+00,  9.66317931e+00, -1.84761965e+03,  4.42166089e+02,\n",
       "        1.83862000e+02,  3.31273600e+02,  2.16011096e+01,  6.10363676e+03,\n",
       "        1.44671652e+01,  2.22838564e+01,  3.48173097e+01,  6.65822025e+00,\n",
       "        4.30379401e+00, -1.91946272e+03,  5.01175506e-01])"
      ]
     },
     "execution_count": 33,
     "metadata": {},
     "output_type": "execute_result"
    }
   ],
   "source": [
    "regr = LinearRegression()\n",
    "regr.fit(xtrain, ytrain)\n",
    "predictions = regr.predict(xtest)\n",
    "regr.coef_"
   ]
  },
  {
   "cell_type": "code",
   "execution_count": 34,
   "metadata": {},
   "outputs": [
    {
     "data": {
      "text/plain": [
       "0.19482286612362432"
      ]
     },
     "execution_count": 34,
     "metadata": {},
     "output_type": "execute_result"
    }
   ],
   "source": [
    "erreur = 1 - regr.score(xtest,ytest)\n",
    "erreur"
   ]
  },
  {
   "cell_type": "code",
   "execution_count": 24,
   "metadata": {},
   "outputs": [
    {
     "data": {
      "text/plain": [
       "KitchenAbvGr    -0.135907\n",
       "EnclosedPorch   -0.128578\n",
       "MSSubClass      -0.084284\n",
       "OverallCond     -0.077856\n",
       "YrSold          -0.028923\n",
       "LowQualFinSF    -0.025606\n",
       "Id              -0.021917\n",
       "MiscVal         -0.021190\n",
       "BsmtHalfBath    -0.016844\n",
       "BsmtFinSF2      -0.011378\n",
       "3SsnPorch        0.044584\n",
       "MoSold           0.046432\n",
       "PoolArea         0.092404\n",
       "ScreenPorch      0.111447\n",
       "BedroomAbvGr     0.168213\n",
       "BsmtUnfSF        0.214479\n",
       "BsmtFullBath     0.227122\n",
       "LotArea          0.263843\n",
       "HalfBath         0.284108\n",
       "OpenPorchSF      0.315856\n",
       "2ndFlrSF         0.319334\n",
       "WoodDeckSF       0.324413\n",
       "LotFrontage      0.351799\n",
       "BsmtFinSF1       0.386420\n",
       "Fireplaces       0.466929\n",
       "MasVnrArea       0.477493\n",
       "GarageYrBlt      0.486362\n",
       "YearRemodAdd     0.507101\n",
       "YearBuilt        0.522897\n",
       "TotRmsAbvGrd     0.533723\n",
       "FullBath         0.560664\n",
       "1stFlrSF         0.605852\n",
       "TotalBsmtSF      0.613581\n",
       "GarageArea       0.623431\n",
       "GarageCars       0.640409\n",
       "GrLivArea        0.708624\n",
       "OverallQual      0.790982\n",
       "SalePrice        1.000000\n",
       "Name: SalePrice, dtype: float64"
      ]
     },
     "execution_count": 24,
     "metadata": {},
     "output_type": "execute_result"
    }
   ],
   "source": [
    "house_dataset_df.corr()[\"SalePrice\"].sort_values()"
   ]
  },
  {
   "cell_type": "code",
   "execution_count": 25,
   "metadata": {},
   "outputs": [],
   "source": [
    "from sklearn.tree import DecisionTreeRegressor\n",
    "\n",
    "dtr = DecisionTreeRegressor()"
   ]
  },
  {
   "cell_type": "code",
   "execution_count": 35,
   "metadata": {},
   "outputs": [
    {
     "data": {
      "text/plain": [
       "array([167000., 112000.,  81000., 155000., 203000., 180000., 245500.,\n",
       "       176000., 213250., 149000., 143000., 139400., 254900., 286000.,\n",
       "       156000., 213500., 200500., 225000., 125000., 216500.,  92900.,\n",
       "       197500., 140000., 225000., 107400., 180000., 191000., 133900.,\n",
       "       147400., 229456., 164990., 260000., 149000., 315750., 120500.,\n",
       "       110000., 172400., 176000., 194000., 290000., 140000., 392500.,\n",
       "       110000., 315000., 307000., 119500., 392500., 177500., 137900.,\n",
       "       185000., 133000., 150000., 155000., 192000., 176000., 213500.,\n",
       "       311872., 159000., 202500., 189000., 179900., 139400., 108500.,\n",
       "       123600.,  87000., 144500., 244600., 190000., 333168., 171000.,\n",
       "       120000., 167000., 101000., 314813., 159500., 138500., 196500.,\n",
       "       169990., 139600., 144000., 109000., 215000., 176000., 185000.,\n",
       "       138000., 201800., 173000., 102000., 159500.,  55993., 177000.,\n",
       "       394617.,  75000., 175000., 117500., 118400., 175000., 465000.,\n",
       "       257500., 153900.,  97000., 212900., 315000., 106000., 135000.,\n",
       "       186500., 134800., 555000., 311872., 145000., 106500., 143250.,\n",
       "       141000., 555000., 144000., 151500., 100000., 156000., 237500.,\n",
       "       254900., 165000., 155000., 173000., 402000., 201000., 119500.,\n",
       "       143000., 318061., 133750., 109000., 188500., 157900., 248328.,\n",
       "        72500., 213500., 165000., 250000., 106000., 173000., 129000.,\n",
       "       183500., 237500.,  97500., 139900., 135000., 260000., 173900.,\n",
       "       248000., 214000., 139000., 126000., 185000., 118964.,  39300.,\n",
       "       192000., 152000., 200000., 136500., 150750., 248328., 167000.,\n",
       "       228500., 239900., 128900., 166000., 277000., 147400., 125000.,\n",
       "       101800., 118000., 175500., 137450., 179000., 135000., 200000.,\n",
       "       312500., 141000., 180000., 285000., 220000., 163900., 104000.,\n",
       "       202500., 318000., 168000., 127000., 108500., 147000., 180500.,\n",
       "       190000., 185000., 144000., 132000., 164000., 122900., 153575.,\n",
       "       158500., 200500., 193000.,  80000., 137900., 127500., 115000.,\n",
       "       149900., 147400., 230000., 171500., 142000., 119200., 162500.,\n",
       "       227680., 135000., 582933., 169990., 125000., 167000., 185000.,\n",
       "       127500., 122000., 217500., 147000., 179500., 315000., 100000.,\n",
       "       274970., 166000., 133700., 215000., 171000., 150000., 146800.,\n",
       "       144000., 225000., 267000., 147500., 183500., 188700., 139600.,\n",
       "       225000., 203000., 160000., 555000.,  87000., 133700., 138800.,\n",
       "       156000., 328000., 367294., 142000., 275000., 129500., 177500.,\n",
       "       239500., 200000., 214000., 246578., 163500., 167500., 190000.,\n",
       "       244600.,  97500., 440000., 280000., 315000., 132250., 361919.,\n",
       "       196500., 159500., 155000., 109900., 217000., 130000., 149900.,\n",
       "       176500., 117000., 215000., 175500., 229456., 133700.,  96500.,\n",
       "       164700., 239686., 116500., 139000., 154000., 112500., 260400.,\n",
       "       228000., 423000., 125500., 196500., 124000.])"
      ]
     },
     "execution_count": 35,
     "metadata": {},
     "output_type": "execute_result"
    }
   ],
   "source": [
    "dtr.fit(xtrain, ytrain)\n",
    "predictions = dtr.predict(xtest)\n",
    "predictions"
   ]
  },
  {
   "cell_type": "code",
   "execution_count": 36,
   "metadata": {},
   "outputs": [
    {
     "data": {
      "text/plain": [
       "0.20276111058378343"
      ]
     },
     "execution_count": 36,
     "metadata": {},
     "output_type": "execute_result"
    }
   ],
   "source": [
    "erreur = 1 - dtr.score(xtest,ytest)\n",
    "erreur"
   ]
  },
  {
   "cell_type": "markdown",
   "metadata": {},
   "source": [
    "# COMBINAISON DES VARIABLES CATEGORIELLES ET NUMERIQUES"
   ]
  },
  {
   "cell_type": "code",
   "execution_count": 37,
   "metadata": {},
   "outputs": [],
   "source": [
    "from sklearn.compose import ColumnTransformer\n",
    "from sklearn.preprocessing import OneHotEncoder, StandardScaler\n",
    "# Define the preprocessing steps\n",
    "preprocessor = ColumnTransformer(\n",
    "    transformers=[\n",
    "        ('num', StandardScaler(), ['OverallQual',\n",
    "    'GrLivArea',\n",
    "    'GarageCars',\n",
    "    'GarageArea',\n",
    "    'TotalBsmtSF',\n",
    "    '1stFlrSF',\n",
    "    'FullBath',\n",
    "    'TotRmsAbvGrd',\n",
    "    'YearBuilt',\n",
    "    'YearRemodAdd',\n",
    "    'MasVnrArea',\n",
    "    'Fireplaces',\n",
    "    'BsmtFinSF1',\n",
    "    'LotFrontage',\n",
    "    'WoodDeckSF',\n",
    "    'OpenPorchSF',\n",
    "    '2ndFlrSF',\n",
    "    'HalfBath','LotArea']),\n",
    "        ('cat', OneHotEncoder(), ['MSSubClass','MSZoning','Neighborhood','Condition1'])\n",
    "    ])"
   ]
  },
  {
   "cell_type": "code",
   "execution_count": 54,
   "metadata": {},
   "outputs": [],
   "source": [
    "# Transform the data\n",
    "X_processed = preprocessor.fit_transform(house_dataset_df)\n",
    "\n",
    "# Compute the mean value while ignoring NaN values\n",
    "mean_val = np.nanmean(X_processed)\n",
    "\n",
    "# Replace NaN values with the mean value\n",
    "X_processed[np.isnan(X_processed)] = mean_val\n",
    "\n"
   ]
  },
  {
   "cell_type": "code",
   "execution_count": 55,
   "metadata": {},
   "outputs": [],
   "source": [
    "xtrain, xtest, ytrain, ytest = train_test_split(X_processed, house_dataset_df['SalePrice'], train_size=0.8)"
   ]
  },
  {
   "cell_type": "code",
   "execution_count": 59,
   "metadata": {},
   "outputs": [
    {
     "data": {
      "text/plain": [
       "0.2890690772530158"
      ]
     },
     "execution_count": 59,
     "metadata": {},
     "output_type": "execute_result"
    }
   ],
   "source": [
    "from sklearn.ensemble import RandomForestRegressor\n",
    "lr = LinearRegression()\n",
    "tree = DecisionTreeRegressor()\n",
    "# Create a random forest regressor\n",
    "forest = RandomForestRegressor(max_depth=2, random_state=0)\n",
    "\n",
    "\n",
    "forest.fit(xtrain, ytrain)\n",
    "predictions = forest.predict(xtest)\n",
    "erreur = 1 - forest.score(xtest,ytest)\n",
    "erreur"
   ]
  }
 ],
 "metadata": {
  "kernelspec": {
   "display_name": "CTA",
   "language": "python",
   "name": "python3"
  },
  "language_info": {
   "codemirror_mode": {
    "name": "ipython",
    "version": 3
   },
   "file_extension": ".py",
   "mimetype": "text/x-python",
   "name": "python",
   "nbconvert_exporter": "python",
   "pygments_lexer": "ipython3",
   "version": "3.9.11"
  },
  "orig_nbformat": 4
 },
 "nbformat": 4,
 "nbformat_minor": 2
}
