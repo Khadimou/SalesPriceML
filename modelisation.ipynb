{
 "cells": [
  {
   "cell_type": "code",
   "execution_count": 1,
   "metadata": {},
   "outputs": [],
   "source": [
    "import pandas as pd\n",
    "import matplotlib.pyplot as plt\n",
    "import seaborn as sns\n",
    "import numpy as np\n",
    "from ipywidgets import interact, fixed  \n",
    "from itertools import product\n",
    "import scipy.stats as ss\n",
    "from sklearn.ensemble import RandomForestRegressor\n",
    "from sklearn.preprocessing import MinMaxScaler\n",
    "from sklearn.model_selection import train_test_split"
   ]
  },
  {
   "cell_type": "code",
   "execution_count": 2,
   "metadata": {},
   "outputs": [],
   "source": [
    "df = pd.read_csv(\"housing_dataset.csv\")\n",
    "numerical_feature_df= pd.read_csv(\"Selected_numerical_features.csv\")\n",
    "categorical_feature_df = pd.read_csv(\"Selected_categorical_features.csv\")\n",
    "categorical_feature_df= categorical_feature_df[[\"Feature\",\"Frequence\"]]"
   ]
  },
  {
   "cell_type": "code",
   "execution_count": 3,
   "metadata": {},
   "outputs": [
    {
     "data": {
      "text/plain": [
       "array(['Neighborhood', 'ExterQual', 'BsmtQual', 'KitchenQual',\n",
       "       'FireplaceQu', 'GarageFinish'], dtype=object)"
      ]
     },
     "execution_count": 3,
     "metadata": {},
     "output_type": "execute_result"
    }
   ],
   "source": [
    "numerical_feature_list = numerical_feature_df[numerical_feature_df[\"Frequence\"]>1].Feature.values\n",
    "categorical_feature_list = categorical_feature_df[categorical_feature_df[\"Frequence\"]>4].Feature.values\n",
    "categorical_feature_list"
   ]
  },
  {
   "cell_type": "code",
   "execution_count": 4,
   "metadata": {},
   "outputs": [
    {
     "data": {
      "text/plain": [
       "26"
      ]
     },
     "execution_count": 4,
     "metadata": {},
     "output_type": "execute_result"
    }
   ],
   "source": [
    "final_feature = list(numerical_feature_list)+list(categorical_feature_list )\n",
    "len(final_feature)"
   ]
  },
  {
   "cell_type": "code",
   "execution_count": 5,
   "metadata": {},
   "outputs": [],
   "source": [
    "df = df[final_feature+[\"SalePrice\"]]"
   ]
  },
  {
   "cell_type": "code",
   "execution_count": 6,
   "metadata": {},
   "outputs": [],
   "source": [
    "#@interact(df_arg=fixed(numerical_df),k=(3,0,-0.5))\n",
    "def remove_outliers_iqr(df_arg,k = 1.5):\n",
    "    df_iqr = df_arg.copy()\n",
    "    #columns = [col for col in df_arg.columns]\n",
    "    for col in df_arg.columns:\n",
    "        if df_arg[col].dtypes!=\"object\":\n",
    "            q25, q75 = q25, q75 = df_iqr[col].quantile(.25), df_iqr[col].quantile(.75)\n",
    "            ecart_iqr = q75- q25\n",
    "            cut_off = ecart_iqr*k\n",
    "            lower = q25-cut_off\n",
    "            upper = q75+cut_off\n",
    "            df_iqr[col] =np.where(((df_iqr[col]< lower)|(df_iqr[col]> upper)),df_iqr[col].median(),df_iqr[col])\n",
    "    return df_iqr  "
   ]
  },
  {
   "cell_type": "code",
   "execution_count": 7,
   "metadata": {},
   "outputs": [
    {
     "data": {
      "text/plain": [
       "Index(['OverallQual', 'BsmtFinSF1', 'BsmtFinSF2', 'BsmtUnfSF', 'TotalBsmtSF',\n",
       "       '1stFlrSF', '2ndFlrSF', 'LowQualFinSF', 'GrLivArea', 'BsmtFullBath',\n",
       "       'BsmtHalfBath', 'FullBath', 'BedroomAbvGr', 'KitchenAbvGr',\n",
       "       'GarageCars', 'LotArea', 'YearBuilt', 'YearRemodAdd', 'GarageArea',\n",
       "       'TotRmsAbvGrd', 'Neighborhood', 'ExterQual', 'BsmtQual', 'KitchenQual',\n",
       "       'FireplaceQu', 'GarageFinish', 'SalePrice'],\n",
       "      dtype='object')"
      ]
     },
     "execution_count": 7,
     "metadata": {},
     "output_type": "execute_result"
    }
   ],
   "source": [
    "df_work = remove_outliers_iqr(df,3)\n",
    "df_work.columns"
   ]
  },
  {
   "cell_type": "code",
   "execution_count": 8,
   "metadata": {},
   "outputs": [
    {
     "data": {
      "text/plain": [
       "808"
      ]
     },
     "execution_count": 8,
     "metadata": {},
     "output_type": "execute_result"
    }
   ],
   "source": [
    "df_work.isnull().sum().sum()"
   ]
  },
  {
   "attachments": {},
   "cell_type": "markdown",
   "metadata": {},
   "source": [
    " ## Model Training"
   ]
  },
  {
   "cell_type": "code",
   "execution_count": 21,
   "metadata": {},
   "outputs": [],
   "source": [
    "from sklearn.compose import ColumnTransformer\n",
    "from sklearn.preprocessing import OneHotEncoder \n",
    "from sklearn.pipeline import make_pipeline\n",
    "from sklearn.compose import make_column_selector as selector\n",
    "\n",
    "\n",
    "def preprocess_data(df_arg,features):\n",
    "    categorical_preprocessor = OneHotEncoder(handle_unknown=\"ignore\")\n",
    "    numerical_preprocessor = MinMaxScaler()\n",
    "    x_inputs = df_arg.copy().drop(columns=[\"SalePrice\"])[features]\n",
    "    numerical_columns_selector = selector(dtype_exclude=object)\n",
    "    categorical_columns_selector = selector(dtype_include=object)\n",
    "    numerical_columns = numerical_columns_selector(x_inputs)\n",
    "    categorical_columns = categorical_columns_selector(x_inputs)\n",
    "    preprocessor = ColumnTransformer(transformers=[\n",
    "    ('one-hot-encoder', categorical_preprocessor,categorical_columns),\n",
    "    ('min_max_scaler', numerical_preprocessor, numerical_columns)])\n",
    "    X_processed= preprocessor.fit_transform(x_inputs)\n",
    "    y_processed = (df_arg.copy()[\"SalePrice\"]-df_arg.copy()[\"SalePrice\"].min())/((df_arg.copy()[\"SalePrice\"].max()-df_arg.copy()[\"SalePrice\"].min()))\n",
    "    trainX, testX, trainY, testY= train_test_split(X_processed, y_processed, train_size=0.8)\n",
    "    trainX.shape, testY.shape\n",
    "    return trainX, testX, trainY, testY\n"
   ]
  },
  {
   "cell_type": "code",
   "execution_count": null,
   "metadata": {},
   "outputs": [],
   "source": [
    "def get_metrics(y_true, y_pred):\n",
    "    metrics_dict  = {\"MSE\": 0,\"MAE\":0, \"RMSE\":0,\"MAPE\":0}\n",
    "    mse = np.mean(np.power(y_true - y_pred,2))\n",
    "    metrics_dict[\"MSE\"] = np.round(mse,5)\n",
    "    mae = np.mean(np.abs(y_true - y_pred,2))\n",
    "    metrics_dict[\"MAE\"] = np.round(mae,5)\n",
    "    rmse = np.sqrt(np.mean(np.power(y_true - y_pred,2)))\n",
    "    metrics_dict[\"RMSE\"] = np.round(rmse,5)\n",
    "    mape = 100*((y_true - y_pred,2) / np.abs(y_true)).sum() / len(y_true)\n",
    "    metrics_dict[\"MAPE\"] = np.round(mape,5)\n",
    "    return metrics_dict\n",
    "\n",
    "def print_metrics(metrics_dict):\n",
    "    for k in metrics_dict.keys():\n",
    "        print(k+\" : %f\"%(np.round(metrics_dict[k],3)))\n",
    "    "
   ]
  },
  {
   "cell_type": "code",
   "execution_count": 25,
   "metadata": {},
   "outputs": [
    {
     "data": {
      "text/plain": [
       "((1168, 68), (292,))"
      ]
     },
     "execution_count": 25,
     "metadata": {},
     "output_type": "execute_result"
    }
   ],
   "source": [
    "trainX, testX, trainY, testY = preprocess_data(df_work,final_feature)\n",
    "trainX.shape, testY.shape"
   ]
  },
  {
   "cell_type": "code",
   "execution_count": 28,
   "metadata": {},
   "outputs": [
    {
     "data": {
      "text/plain": [
       "(292,)"
      ]
     },
     "execution_count": 28,
     "metadata": {},
     "output_type": "execute_result"
    }
   ],
   "source": [
    "rf = RandomForestRegressor()\n",
    "y_pred = rf.fit(trainX, trainY).predict(testX)"
   ]
  },
  {
   "cell_type": "code",
   "execution_count": 29,
   "metadata": {},
   "outputs": [
    {
     "data": {
      "text/plain": [
       "array([0.16116824, 0.5073654 , 0.20727993, 0.33877005, 0.26000784,\n",
       "       0.41473999, 0.18424869, 0.29218944, 0.24921425, 0.28349751,\n",
       "       0.10013469, 0.20584515, 0.30593815, 0.33907475, 0.30961172,\n",
       "       0.28034294, 0.05123557, 0.37787696, 0.25789282, 0.48349393,\n",
       "       0.27187854, 0.47086705, 0.14212751, 0.40901279, 0.65117587,\n",
       "       0.25237619, 0.40253536, 0.2394313 , 0.50848147, 0.17547431,\n",
       "       0.17596647, 0.20760995, 0.17793313, 0.31403743, 0.21811207,\n",
       "       0.55043257, 0.6465365 , 0.18020181, 0.54540718, 0.11184401,\n",
       "       0.2194292 , 0.41061321, 0.27607059, 0.27216061, 0.53410881,\n",
       "       0.3406903 , 0.3147482 , 0.19438349, 0.23739014, 0.25955889,\n",
       "       0.38361079, 0.31780251, 0.21387236, 0.15698028, 0.41096257,\n",
       "       0.29822948, 0.39541374, 0.36159928, 0.43372399, 0.25470293,\n",
       "       0.28179149, 0.47057938, 0.41761665, 0.27038163, 0.56764111,\n",
       "       0.65499549, 0.1483093 , 0.29822969, 0.16006199, 0.19345606,\n",
       "       0.25853174, 0.25548103, 0.69035936, 0.25598826, 0.58013267,\n",
       "       0.25701567, 0.26950512, 0.36872286, 0.30150674, 0.77703555,\n",
       "       0.80550983, 0.32458033, 0.38286678, 0.39747966, 0.33131481,\n",
       "       0.1722166 , 0.66142316, 0.64004731, 0.2351498 , 0.2872339 ,\n",
       "       0.25881283, 0.48628512, 0.2680695 , 0.18525666, 0.15505545,\n",
       "       0.16256201, 0.27056033, 0.41298651, 0.24919728, 0.29576517,\n",
       "       0.50610402, 0.43127368, 0.66285982, 0.77450058, 0.26140121,\n",
       "       0.15438021, 0.21222176, 0.67407459, 0.3243362 , 0.44348531,\n",
       "       0.2540014 , 0.50291628, 0.38274392, 0.18467026, 0.2799628 ,\n",
       "       0.36060916, 0.34713983, 0.33336684, 0.35644301, 0.28368054,\n",
       "       0.52808507, 0.49789486, 0.41497326, 0.71802974, 0.34488286,\n",
       "       0.18015564, 0.81820323, 0.33575301, 0.27305231, 0.45250807,\n",
       "       0.54961049, 0.34062153, 0.18611407, 0.43759472, 0.17739626,\n",
       "       0.58009502, 0.38073274, 0.49398591, 0.41166938, 0.56362134,\n",
       "       0.64469891, 0.32470356, 0.2918787 , 0.18537568, 0.22637945,\n",
       "       0.38546152, 0.54673904, 0.18836412, 0.17659158, 0.19689437,\n",
       "       0.32920786, 0.27369798, 0.32814346, 0.21851941, 0.23404094,\n",
       "       0.24532588, 0.32123808, 0.20274283, 0.15624718, 0.24179726,\n",
       "       0.26476475, 0.22349337, 0.19931139, 0.18709444, 0.13993316,\n",
       "       0.62068907, 0.18176731, 0.38776208, 0.29148965, 0.15551814,\n",
       "       0.25736457, 0.30182162, 0.35013927, 0.45356408, 0.24597303,\n",
       "       0.14944092, 0.32965357, 0.47365901, 0.25042385, 0.55556461,\n",
       "       0.25815276, 0.21209254, 0.25001628, 0.20101837, 0.27158568,\n",
       "       0.37073471, 0.36732388, 0.59668756, 0.25789351, 0.276094  ,\n",
       "       0.41131776, 0.27160312, 0.62639872, 0.62232864, 0.24868054,\n",
       "       0.36539991, 0.5659422 , 0.41700302, 0.26621018, 0.2923385 ,\n",
       "       0.39472774, 0.36674611, 0.36294001, 0.3745924 , 0.09896247,\n",
       "       0.1751751 , 0.43681837, 0.15679898, 0.27548091, 0.2194505 ,\n",
       "       0.26292013, 0.43199591, 0.21585524, 0.30370479, 0.22737735,\n",
       "       0.2256582 , 0.14979075, 0.26045062, 0.37256936, 0.33608347,\n",
       "       0.50507698, 0.2131376 , 0.18134155, 0.16979423, 0.11537549,\n",
       "       0.70724648, 0.2313462 , 0.16213216, 0.22714443, 0.74832602,\n",
       "       0.41225692, 0.32442455, 0.48530316, 0.15498721, 0.24427924,\n",
       "       0.67180584, 0.53710084, 0.19284971, 0.25720151, 0.25913478,\n",
       "       0.41718796, 0.3807439 , 0.29635899, 0.30701355, 0.18385194,\n",
       "       0.4815285 , 0.29126396, 0.50796822, 0.33006143, 0.31963192,\n",
       "       0.23478921, 0.22920484, 0.44597233, 0.29164413, 0.42181586,\n",
       "       0.25904439, 0.53358242, 0.20109719, 0.22435666, 0.19125359,\n",
       "       0.40749691, 0.63316815, 0.26974841, 0.76942974, 0.31588119,\n",
       "       0.19228579, 0.19157552, 0.13860639, 0.20487626, 0.30593369,\n",
       "       0.14330344, 0.33738875, 0.58022116, 0.47613711, 0.1855983 ,\n",
       "       0.29243783, 0.21094708, 0.27751314, 0.26965945, 0.20835754,\n",
       "       0.09707726, 0.56812067, 0.31920679, 0.21632876, 0.21581376,\n",
       "       0.33204352, 0.29911997, 0.31142525, 0.4685711 , 0.38978066,\n",
       "       0.17423106, 0.35877429])"
      ]
     },
     "execution_count": 29,
     "metadata": {},
     "output_type": "execute_result"
    }
   ],
   "source": [
    "y_pred"
   ]
  },
  {
   "cell_type": "code",
   "execution_count": null,
   "metadata": {},
   "outputs": [],
   "source": [
    "import lazypredict\n",
    "from lazypredict.Supervised import LazyRegressor\n",
    "reg = LazyRegressor(verbose=0,ignore_warnings=True, custom_metric=None)\n",
    "models,predictions = reg.fit(trainX,testX, trainY,testY)\n",
    "print(models)"
   ]
  }
 ],
 "metadata": {
  "kernelspec": {
   "display_name": "Python 3",
   "language": "python",
   "name": "python3"
  },
  "language_info": {
   "codemirror_mode": {
    "name": "ipython",
    "version": 3
   },
   "file_extension": ".py",
   "mimetype": "text/x-python",
   "name": "python",
   "nbconvert_exporter": "python",
   "pygments_lexer": "ipython3",
   "version": "3.8.10"
  },
  "orig_nbformat": 4
 },
 "nbformat": 4,
 "nbformat_minor": 2
}
